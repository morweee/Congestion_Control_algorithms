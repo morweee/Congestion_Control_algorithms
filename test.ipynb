{
 "cells": [
  {
   "cell_type": "code",
   "execution_count": null,
   "metadata": {},
   "outputs": [],
   "source": [
    "# This sliding window protocol allows the sender to send multiple packets at a time \n",
    "# before waiting for an acknowledgement.\n",
    "\n",
    "import socket\n",
    "import time\n",
    "\n",
    "# total packet size\n",
    "PACKET_SIZE = 1024\n",
    "SEQ_ID_SIZE = 4\n",
    "MESSAGE_SIZE = PACKET_SIZE - SEQ_ID_SIZE\n",
    "# window size: 100 packets\n",
    "WINDOW_SIZE = 100\n",
    "\n",
    "# read data\n",
    "with open('docker/file.mp3', 'rb') as f:\n",
    "    data = f.read()\n",
    "    data = data[0:len(data)//30]\n",
    "\n",
    "# create a udp socket\n",
    "with socket.socket(socket.AF_INET, socket.SOCK_DGRAM) as udp_socket:\n",
    "\n",
    "    # bind the socket to a OS port\n",
    "    udp_socket.bind((\"localhost\", 5000))\n",
    "    udp_socket.settimeout(1)\n",
    "\n",
    "    # start sending data from 0th sequence\n",
    "    base = 0\n",
    "    next_seq_num = 0\n",
    "    packets = {}\n",
    "\n",
    "    start = time.time()\n",
    "    while base < len(data):\n",
    "        print(f\"base: {base}\")\n",
    "        # send new packets if window is not full\n",
    "        while next_seq_num < base + WINDOW_SIZE * MESSAGE_SIZE and next_seq_num < len(data):\n",
    "            # construct and send message\n",
    "            message = int.to_bytes(next_seq_num, SEQ_ID_SIZE, signed=True, byteorder='big') + data[next_seq_num : next_seq_num + MESSAGE_SIZE]\n",
    "            udp_socket.sendto(message, ('localhost', 5001))\n",
    "            # store the packet\n",
    "            packets[next_seq_num] = message\n",
    "            # move sequence id forward\n",
    "            next_seq_num += MESSAGE_SIZE\n",
    "\n",
    "        # wait for acknowledgement\n",
    "        while True:\n",
    "            try:\n",
    "                # wait for ack and extract ack id\n",
    "                ack, _ = udp_socket.recvfrom(PACKET_SIZE)\n",
    "                ack_id = int.from_bytes(ack[:SEQ_ID_SIZE], byteorder='big')\n",
    "                print(ack_id, ack[SEQ_ID_SIZE:])\n",
    "                print(min(base + (WINDOW_SIZE+1) * MESSAGE_SIZE, len(data)))\n",
    "                # ack id == base position, move on\n",
    "                # last ack_id is len(data)\n",
    "                if ack_id == min(base + (WINDOW_SIZE+1) * MESSAGE_SIZE, len(data)):\n",
    "                    base = ack_id\n",
    "                    break\n",
    "                \n",
    "            except socket.timeout:\n",
    "                # no ack, resend all packets in the window\n",
    "                print(\"resend\")\n",
    "                for seq_id, message in packets.items():\n",
    "                    if seq_id >= base and seq_id < base + WINDOW_SIZE * MESSAGE_SIZE:\n",
    "                        udp_socket.sendto(message, ('localhost', 5001))\n",
    "\n",
    "    # send final closing message\n",
    "    # send an empty message with the correct sequence id (seq_id + MESSAGE_SIZE)\n",
    "    empty_message = int.to_bytes(len(data), 4, signed=True, byteorder='big')\n",
    "    udp_socket.sendto(empty_message, ('localhost', 5001))\n",
    "    while True:\n",
    "            # wait for final ack\n",
    "            final_ack, _ = udp_socket.recvfrom(PACKET_SIZE)\n",
    "            # get the final message id\n",
    "            seq_id, message = final_ack[:SEQ_ID_SIZE], final_ack[SEQ_ID_SIZE:]\n",
    "            if message == b'ack':\n",
    "                continue\n",
    "            if message == b'fin':\n",
    "                udp_socket.sendto(int.to_bytes(-1, 4, signed=True, byteorder='big') + '==FINACK=='.encode(), ('localhost', 5001))\n",
    "                break\n",
    "            \n",
    "    end = time.time()\n",
    "    print(f\"throughput: {len(data)//(end-start)} bytes per seconds\")\n",
    "    print(f\"time lapse: {(end-start)} seconds\")\n",
    "\n"
   ]
  },
  {
   "cell_type": "code",
   "execution_count": 4,
   "metadata": {},
   "outputs": [
    {
     "name": "stdout",
     "output_type": "stream",
     "text": [
      "dict_keys([0, 1020, 2040, 3060, 4080, 5100, 6120, 7140, 8160, 9180, 10200, 11220, 12240, 13260, 14280, 15300, 16320, 17340, 18360, 19380, 20400, 21420, 22440, 23460, 24480, 25500, 26520, 27540, 28560, 29580, 30600, 31620, 32640, 33660, 34680, 35700, 36720, 37740, 38760, 39780, 40800, 41820, 42840, 43860, 44880, 45900, 46920, 47940, 48960, 49980, 51000, 52020, 53040, 54060, 55080, 56100, 57120, 58140, 59160, 60180, 61200, 62220, 63240, 64260, 65280, 66300, 67320, 68340, 69360, 70380, 71400, 72420, 73440, 74460, 75480, 76500, 77520, 78540, 79560, 80580, 81600, 82620, 83640, 84660, 85680, 86700, 87720, 88740, 89760, 90780, 91800, 92820, 93840, 94860, 95880, 96900, 97920, 98940, 99960, 100980])\n"
     ]
    }
   ],
   "source": [
    "print(packets.keys())"
   ]
  },
  {
   "cell_type": "code",
   "execution_count": null,
   "metadata": {},
   "outputs": [],
   "source": []
  }
 ],
 "metadata": {
  "kernelspec": {
   "display_name": "Python 3",
   "language": "python",
   "name": "python3"
  },
  "language_info": {
   "codemirror_mode": {
    "name": "ipython",
    "version": 3
   },
   "file_extension": ".py",
   "mimetype": "text/x-python",
   "name": "python",
   "nbconvert_exporter": "python",
   "pygments_lexer": "ipython3",
   "version": "3.9.6"
  }
 },
 "nbformat": 4,
 "nbformat_minor": 2
}
